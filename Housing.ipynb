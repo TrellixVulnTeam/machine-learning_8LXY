{
 "cells": [
  {
   "cell_type": "markdown",
   "id": "99aa49ae",
   "metadata": {},
   "source": [
    "# Linear Regression With One Variable"
   ]
  },
  {
   "cell_type": "code",
   "execution_count": 539,
   "id": "bac4fc9d",
   "metadata": {},
   "outputs": [],
   "source": [
    "#let's start by importing relevant python libraries\n",
    "import os\n",
    "import numpy as np\n",
    "import pandas as pd\n",
    "import matplotlib.pyplot as plt\n",
    "RESTURANT_PATH = os.path.join(\"datasets\", \"resturant\")"
   ]
  },
  {
   "cell_type": "code",
   "execution_count": 540,
   "id": "252adbc5",
   "metadata": {},
   "outputs": [],
   "source": [
    "def load_resturant_data(resturant_path=RESTURANT_PATH): \n",
    "    csv_path = os.path.join(resturant_path, \"ex1data2.txt\") \n",
    "    print(csv_path)\n",
    "    return pd.read_csv(csv_path)"
   ]
  },
  {
   "cell_type": "code",
   "execution_count": 541,
   "id": "18eeec41",
   "metadata": {},
   "outputs": [
    {
     "name": "stdout",
     "output_type": "stream",
     "text": [
      "datasets/resturant/ex1data2.txt\n"
     ]
    },
    {
     "data": {
      "text/html": [
       "<div>\n",
       "<style scoped>\n",
       "    .dataframe tbody tr th:only-of-type {\n",
       "        vertical-align: middle;\n",
       "    }\n",
       "\n",
       "    .dataframe tbody tr th {\n",
       "        vertical-align: top;\n",
       "    }\n",
       "\n",
       "    .dataframe thead th {\n",
       "        text-align: right;\n",
       "    }\n",
       "</style>\n",
       "<table border=\"1\" class=\"dataframe\">\n",
       "  <thead>\n",
       "    <tr style=\"text-align: right;\">\n",
       "      <th></th>\n",
       "      <th>Size</th>\n",
       "      <th>Bedrooms</th>\n",
       "      <th>Price</th>\n",
       "    </tr>\n",
       "  </thead>\n",
       "  <tbody>\n",
       "    <tr>\n",
       "      <th>0</th>\n",
       "      <td>2104</td>\n",
       "      <td>3</td>\n",
       "      <td>399900</td>\n",
       "    </tr>\n",
       "    <tr>\n",
       "      <th>1</th>\n",
       "      <td>1600</td>\n",
       "      <td>3</td>\n",
       "      <td>329900</td>\n",
       "    </tr>\n",
       "    <tr>\n",
       "      <th>2</th>\n",
       "      <td>2400</td>\n",
       "      <td>3</td>\n",
       "      <td>369000</td>\n",
       "    </tr>\n",
       "    <tr>\n",
       "      <th>3</th>\n",
       "      <td>1416</td>\n",
       "      <td>2</td>\n",
       "      <td>232000</td>\n",
       "    </tr>\n",
       "    <tr>\n",
       "      <th>4</th>\n",
       "      <td>3000</td>\n",
       "      <td>4</td>\n",
       "      <td>539900</td>\n",
       "    </tr>\n",
       "  </tbody>\n",
       "</table>\n",
       "</div>"
      ],
      "text/plain": [
       "   Size  Bedrooms   Price\n",
       "0  2104         3  399900\n",
       "1  1600         3  329900\n",
       "2  2400         3  369000\n",
       "3  1416         2  232000\n",
       "4  3000         4  539900"
      ]
     },
     "execution_count": 541,
     "metadata": {},
     "output_type": "execute_result"
    }
   ],
   "source": [
    "data = load_resturant_data()\n",
    "data.head()"
   ]
  },
  {
   "cell_type": "code",
   "execution_count": 542,
   "id": "2e9cfea2",
   "metadata": {},
   "outputs": [],
   "source": [
    "x = data.drop(['Price'], axis=1)\n",
    "y = data['Price']\n",
    "m = len(y)"
   ]
  },
  {
   "cell_type": "code",
   "execution_count": 543,
   "id": "d5c139af",
   "metadata": {},
   "outputs": [],
   "source": [
    "def featureNormalize(x):\n",
    "    '''\n",
    "     This function takes the features as input and\n",
    "     returns the normalized values, the mean, as well \n",
    "     as the standard deviation for each feature.\n",
    "     '''\n",
    "    x_norm = (x - np.mean(x))/np.std(x) ##Scalling function\n",
    "    mu = np.mean(x) ##Define the mena\n",
    "    sigma = np.std(x) ##Define the standard deviation\n",
    "    return x_norm, mu, sigma ##return the values"
   ]
  },
  {
   "cell_type": "code",
   "execution_count": 544,
   "id": "954eef03",
   "metadata": {},
   "outputs": [
    {
     "name": "stderr",
     "output_type": "stream",
     "text": [
      "/Users/mac/ml/lib/python3.10/site-packages/numpy/core/fromnumeric.py:3472: FutureWarning: In a future version, DataFrame.mean(axis=None) will return a scalar mean over the entire DataFrame. To retain the old behavior, use 'frame.mean(axis=0)' or just 'frame.mean()'\n",
      "  return mean(axis=axis, dtype=dtype, out=out, **kwargs)\n"
     ]
    }
   ],
   "source": [
    "x,mean,std = featureNormalize(x)"
   ]
  },
  {
   "cell_type": "code",
   "execution_count": 545,
   "id": "50d5d80b",
   "metadata": {},
   "outputs": [],
   "source": [
    "x = np.append(np.ones([m,1]), x, axis=1) ## Append the bias term (field containing all ones) to X.\n",
    "y = np.array(y).reshape(-1,1) ## reshape y to mx1 array\n",
    "theta = np.zeros([3,1]) ## Initialize theta (the coefficient) to a 3x1 zero vector."
   ]
  },
  {
   "cell_type": "code",
   "execution_count": 546,
   "id": "ea64967f",
   "metadata": {},
   "outputs": [
    {
     "name": "stdout",
     "output_type": "stream",
     "text": [
      "65591548106.45744\n"
     ]
    }
   ],
   "source": [
    "\n",
    "def computeCostMulti(x, y, theta):\n",
    "    '''\n",
    "    This function takes in the X and y matrices as well as the \n",
    "    initial theta values(coefficients) and returns the cost(error of             \n",
    "    prediction)\n",
    "    '''\n",
    "    m = len(y) #this is the length of the training set\n",
    "    h = x.dot(theta) #the hypothesis\n",
    "    j = 1/(2*m) *(np.sum((h - y)**2)) #the cost function\n",
    "    return j #return the cost\n",
    "cost = computeCost(x,y,theta) #Call the function and pass in values for X, y, and theta to compute the cost.\n",
    "print(cost)"
   ]
  },
  {
   "cell_type": "code",
   "execution_count": 547,
   "id": "5e065440",
   "metadata": {},
   "outputs": [],
   "source": [
    "def gradientDescentMulti(x, y, theta, alpha, iter):\n",
    "    '''\n",
    "    This function takes in the values of the training set, \n",
    "    as well the intial theta values(coefficients), the \n",
    "    learning rate, and the number of iterations. The output \n",
    "    will be the a new set of coefficeients(theta), optimized \n",
    "    for making predictions, as well as the array of the cost \n",
    "    as it depreciates on each iteration.\n",
    "    '''\n",
    "    \n",
    "    J_history = [] ## Array for storing the cost values on each iteration.\n",
    "  \n",
    "    m = len(y) ## Length of the training set\n",
    "    for i in range(iter): ## Loop for 400 iterations\n",
    "        h = x.dot(theta) ## The hypothesis\n",
    "        theta = theta - (alpha/m)*(x.T.dot(h-y)) ## Grad.desc.func.\n",
    "        J_history.append(computeCostMulti(x, y, theta)) ## Append the cost to the J_history array\n",
    "    return theta, J_history ## Return the final values of theta and the J_history array\n",
    "        "
   ]
  },
  {
   "cell_type": "code",
   "execution_count": 548,
   "id": "ab877556",
   "metadata": {},
   "outputs": [
    {
     "name": "stdout",
     "output_type": "stream",
     "text": [
      "[[334302.06399328]\n",
      " [ 99411.44947359]\n",
      " [  3267.01285407]]\n"
     ]
    }
   ],
   "source": [
    "iter = 400 ## Initialize the iteration parameter.\n",
    "alpha = 0.01 ## Initialize the learning rate.\n",
    "new_theta, J_history = gradientDescentMulti(x, y, theta, alpha, iter)\n",
    "print (new_theta)"
   ]
  },
  {
   "cell_type": "code",
   "execution_count": 549,
   "id": "c38245e3",
   "metadata": {},
   "outputs": [
    {
     "name": "stdout",
     "output_type": "stream",
     "text": [
      "2105448288.6292474\n"
     ]
    },
    {
     "data": {
      "text/plain": [
       "Text(0.5, 1.0, 'Minimizing Cost Using Gradient Descent')"
      ]
     },
     "execution_count": 549,
     "metadata": {},
     "output_type": "execute_result"
    },
    {
     "data": {
      "image/png": "[encoded data removed]",
      "text/plain": [
       "<Figure size 432x288 with 1 Axes>"
      ]
     },
     "metadata": {
      "needs_background": "light"
     },
     "output_type": "display_data"
    }
   ],
   "source": [
    "new_cost = computeCostMulti(x,y,new_theta) ## We call the function again, but use the new coefficients.\n",
    "print(new_cost)\n",
    "plt.plot(J_history)\n",
    "plt.ylabel('Cost J')\n",
    "plt.xlabel('Number of Iterations')\n",
    "plt.title('Minimizing Cost Using Gradient Descent')"
   ]
  },
  {
   "cell_type": "code",
   "execution_count": 550,
   "id": "06bf11fd",
   "metadata": {},
   "outputs": [
    {
     "data": {
      "text/plain": [
       "<matplotlib.legend.Legend at 0x1165e3160>"
      ]
     },
     "execution_count": 550,
     "metadata": {},
     "output_type": "execute_result"
    },
    {
     "data": {
      "image/png": "[encoded data removed]",
      "text/plain": [
       "<Figure size 432x288 with 1 Axes>"
      ]
     },
     "metadata": {
      "needs_background": "light"
     },
     "output_type": "display_data"
    }
   ],
   "source": [
    "\n",
    "\n",
    "theta_1, J_history_1 = gradientDescentMulti(x, y, theta, 0.3, 50)\n",
    "theta_2, J_history_2 = gradientDescentMulti(x, y, theta, 0.1, 50)\n",
    "theta_3, J_history_3 = gradientDescentMulti(x, y, theta, 0.03, 50)\n",
    "theta_4, J_history_4 = gradientDescentMulti(x, y, theta, 0.01, 50)\n",
    "theta_5, J_history_5 = gradientDescentMulti(x, y, theta, 0.003, 50)\n",
    "theta_6, J_history_6 = gradientDescentMulti(x, y, theta, 0.001, 50)\n",
    "\n",
    "plt.plot(J_history_1, label='0.3')\n",
    "plt.plot(J_history_2, label='0.1')\n",
    "plt.plot(J_history_3, label='0.03')\n",
    "plt.plot(J_history_4, label='0.01')\n",
    "plt.plot(J_history_5, label='0.003')\n",
    "plt.plot(J_history_6, label='0.001')\n",
    "plt.title('Testing Different Learning Rates')\n",
    "plt.xlabel('Number of Iterations')\n",
    "plt.ylabel('Cost J')\n",
    "plt.legend(bbox_to_anchor=(1.05, 1.0))"
   ]
  },
  {
   "cell_type": "code",
   "execution_count": 551,
   "id": "2997120d",
   "metadata": {},
   "outputs": [
    {
     "ename": "SyntaxError",
     "evalue": "invalid syntax. Perhaps you forgot a comma? (2249206358.py, line 1)",
     "output_type": "error",
     "traceback": [
      "\u001b[0;36m  Input \u001b[0;32mIn [551]\u001b[0;36m\u001b[0m\n\u001b[0;31m    New Theta with 0.3 learning rate\u001b[0m\n\u001b[0m    ^\u001b[0m\n\u001b[0;31mSyntaxError\u001b[0m\u001b[0;31m:\u001b[0m invalid syntax. Perhaps you forgot a comma?\n"
     ]
    }
   ],
   "source": [
    "New Theta with 0.3 learning rate"
   ]
  },
  {
   "cell_type": "code",
   "execution_count": 552,
   "id": "c9291ec9",
   "metadata": {},
   "outputs": [
    {
     "name": "stdout",
     "output_type": "stream",
     "text": [
      "[[340412.65957447]\n",
      " [109447.79646964]\n",
      " [ -6578.35485416]]\n"
     ]
    }
   ],
   "source": [
    "theta, J_history = gradientDescentMulti(x, y, theta, 0.3, 1500)\n",
    "print(theta)"
   ]
  },
  {
   "cell_type": "markdown",
   "id": "f9adb2ee",
   "metadata": {},
   "source": [
    "# Prediction"
   ]
  },
  {
   "cell_type": "code",
   "execution_count": 553,
   "id": "2d8c1aa8",
   "metadata": {},
   "outputs": [],
   "source": [
    "x = [1650, 3]\n",
    "x = np.array(x) ## convert x to numpy array\n",
    "x = (x - mean) / std\n",
    "x = np.append(1, x)\n",
    "x = np.reshape(x, (1,3)) # reshape x to 1X3 array"
   ]
  },
  {
   "cell_type": "code",
   "execution_count": 554,
   "id": "f0731bbe",
   "metadata": {},
   "outputs": [],
   "source": [
    "def prediction(x, theta):   \n",
    "    '''\n",
    "    This function takes in the features of the house \n",
    "    as well as the coefficients, and returns the \n",
    "    predicted price.\n",
    "    '''\n",
    "    print(x)\n",
    "    print(theta)\n",
    "    return np.dot(x, theta)"
   ]
  },
  {
   "cell_type": "code",
   "execution_count": 555,
   "id": "c14a0777",
   "metadata": {},
   "outputs": [
    {
     "name": "stdout",
     "output_type": "stream",
     "text": [
      "[[ 1.         -0.44604386 -0.22609337]]\n",
      "[[340412.65957447]\n",
      " [109447.79646964]\n",
      " [ -6578.35485416]]\n",
      "[[293081.4643349]]\n"
     ]
    }
   ],
   "source": [
    "pred = prediction(x, theta)\n",
    "print(pred)"
   ]
  },
  {
   "cell_type": "code",
   "execution_count": null,
   "id": "879f754d",
   "metadata": {},
   "outputs": [],
   "source": []
  }
 ],
 "metadata": {
  "kernelspec": {
   "display_name": "Python 3 (ipykernel)",
   "language": "python",
   "name": "python3"
  },
  "language_info": {
   "codemirror_mode": {
    "name": "ipython",
    "version": 3
   },
   "file_extension": ".py",
   "mimetype": "text/x-python",
   "name": "python",
   "nbconvert_exporter": "python",
   "pygments_lexer": "ipython3",
   "version": "3.10.0"
  }
 },
 "nbformat": 4,
 "nbformat_minor": 5
}
