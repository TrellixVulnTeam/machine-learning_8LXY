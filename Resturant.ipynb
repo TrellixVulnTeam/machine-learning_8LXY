{
 "cells": [
  {
   "cell_type": "markdown",
   "id": "786ca225",
   "metadata": {},
   "source": [
    "# Linear Regression With One Variable"
   ]
  },
  {
   "cell_type": "code",
   "execution_count": 155,
   "id": "ae0eb288",
   "metadata": {},
   "outputs": [],
   "source": [
    "import os\n",
    "import matplotlib.pyplot as plt\n",
    "import numpy as np\n",
    "RESTURANT_PATH = os.path.join(\"datasets\", \"resturant\")"
   ]
  },
  {
   "cell_type": "code",
   "execution_count": 156,
   "id": "13103a61",
   "metadata": {},
   "outputs": [],
   "source": [
    "import pandas as pd\n",
    "def load_resturant_data(resturant_path=RESTURANT_PATH): \n",
    "    csv_path = os.path.join(resturant_path, \"ex1data1.txt\") \n",
    "    print(csv_path)\n",
    "    return pd.read_csv(csv_path)"
   ]
  },
  {
   "cell_type": "code",
   "execution_count": 157,
   "id": "b23914ed",
   "metadata": {},
   "outputs": [
    {
     "name": "stdout",
     "output_type": "stream",
     "text": [
      "datasets/resturant/ex1data1.txt\n"
     ]
    },
    {
     "data": {
      "text/html": [
       "<div>\n",
       "<style scoped>\n",
       "    .dataframe tbody tr th:only-of-type {\n",
       "        vertical-align: middle;\n",
       "    }\n",
       "\n",
       "    .dataframe tbody tr th {\n",
       "        vertical-align: top;\n",
       "    }\n",
       "\n",
       "    .dataframe thead th {\n",
       "        text-align: right;\n",
       "    }\n",
       "</style>\n",
       "<table border=\"1\" class=\"dataframe\">\n",
       "  <thead>\n",
       "    <tr style=\"text-align: right;\">\n",
       "      <th></th>\n",
       "      <th>Population</th>\n",
       "      <th>Profit</th>\n",
       "    </tr>\n",
       "  </thead>\n",
       "  <tbody>\n",
       "    <tr>\n",
       "      <th>0</th>\n",
       "      <td>6.1101</td>\n",
       "      <td>17.5920</td>\n",
       "    </tr>\n",
       "    <tr>\n",
       "      <th>1</th>\n",
       "      <td>5.5277</td>\n",
       "      <td>9.1302</td>\n",
       "    </tr>\n",
       "    <tr>\n",
       "      <th>2</th>\n",
       "      <td>8.5186</td>\n",
       "      <td>13.6620</td>\n",
       "    </tr>\n",
       "    <tr>\n",
       "      <th>3</th>\n",
       "      <td>7.0032</td>\n",
       "      <td>11.8540</td>\n",
       "    </tr>\n",
       "    <tr>\n",
       "      <th>4</th>\n",
       "      <td>5.8598</td>\n",
       "      <td>6.8233</td>\n",
       "    </tr>\n",
       "  </tbody>\n",
       "</table>\n",
       "</div>"
      ],
      "text/plain": [
       "   Population   Profit\n",
       "0      6.1101  17.5920\n",
       "1      5.5277   9.1302\n",
       "2      8.5186  13.6620\n",
       "3      7.0032  11.8540\n",
       "4      5.8598   6.8233"
      ]
     },
     "execution_count": 157,
     "metadata": {},
     "output_type": "execute_result"
    }
   ],
   "source": [
    "data = load_resturant_data()\n",
    "data.head()"
   ]
  },
  {
   "cell_type": "code",
   "execution_count": 158,
   "id": "0c36bc79",
   "metadata": {},
   "outputs": [
    {
     "data": {
      "text/plain": [
       "Text(0.5, 1.0, 'Scatter Plot of Training Data')"
      ]
     },
     "execution_count": 158,
     "metadata": {},
     "output_type": "execute_result"
    },
    {
     "data": {
      "image/png": "[encoded data removed]",
      "text/plain": [
       "<Figure size 432x288 with 1 Axes>"
      ]
     },
     "metadata": {
      "needs_background": "light"
     },
     "output_type": "display_data"
    }
   ],
   "source": [
    "x = data['Population']\n",
    "y = data['Profit']\n",
    "m = len(y)\n",
    "plt.scatter(x,y, c='red', marker='x')\n",
    "plt.ylabel('Profit in 10,000s')\n",
    "plt.xlabel('Population of City in 10,000s')\n",
    "plt.title('Scatter Plot of Training Data')"
   ]
  },
  {
   "cell_type": "code",
   "execution_count": 159,
   "id": "b6013641",
   "metadata": {},
   "outputs": [
    {
     "name": "stdout",
     "output_type": "stream",
     "text": [
      "32.072733877455676\n"
     ]
    }
   ],
   "source": [
    "x = np.append(np.ones([m,1]), x.values.reshape(m,1), axis=1)#Append bias term to x and reshape x to mx1 matrix\n",
    "y = y.values.reshape(m,1)\n",
    "\n",
    "theta = np.zeros([2,1])\n",
    "\n",
    "def computeCost(x, y, theta):\n",
    "    '''\n",
    "    This function takes in the X and y matrices as well as the \n",
    "    initial theta values(coefficients) and returns the cost(error of             \n",
    "    prediction)\n",
    "    '''\n",
    "    m = len(y) #this is the length of the training set\n",
    "    h = x.dot(theta) #the hypothesis\n",
    "    j = 1/(2*m) *(np.sum((h - y)**2)) #the cost function\n",
    "    return j #return the cost\n",
    "cost = computeCost(x,y,theta) #Call the function and pass in values for X, y, and theta to compute the cost.\n",
    "print(cost)\n",
    "    "
   ]
  },
  {
   "cell_type": "code",
   "execution_count": 160,
   "id": "8582da10",
   "metadata": {},
   "outputs": [],
   "source": [
    "iter = 1500 ## Number of iterations\n",
    "alpha = 0.01 ## Learning rate\n",
    "\n",
    "def gradientDescent(x, y, theta, alpha, iter):\n",
    "    '''\n",
    "    This function takes in the X and y matrices, the initial theta\n",
    "    values(coefficients), the learning rate, and the number of \n",
    "    iterations. The output will be the a new set of coefficient of \n",
    "    the linear regression (theta), optimized for making predictions.\n",
    "    '''  \n",
    "    j_history = [] #array for storing the cost value for each iteration\n",
    "    m = len(y) #this is the lenght of the training set\n",
    "    \n",
    "    for i in range(iter): #loop for 1500 iterations\n",
    "        h = x.dot(theta) #the hypothesis\n",
    "        theta = theta - (alpha/m) * (x.T.dot(h-y)) #Gradient descent function\n",
    "        \n",
    "        j_history.append(computeCost(x,y,theta)) #append the cost to the j history array\n",
    "    return theta, j_history #return the final values of theta and the j_hisstory\n",
    "        "
   ]
  },
  {
   "cell_type": "code",
   "execution_count": 161,
   "id": "b3bde1d7",
   "metadata": {},
   "outputs": [
    {
     "name": "stdout",
     "output_type": "stream",
     "text": [
      "[[-3.63029144]\n",
      " [ 1.16636235]]\n"
     ]
    }
   ],
   "source": [
    "new_theta, j_history = gradientDescent(x,y,theta,alpha,iter)\n",
    "print(new_theta)"
   ]
  },
  {
   "cell_type": "code",
   "execution_count": 162,
   "id": "f2543fb7",
   "metadata": {},
   "outputs": [
    {
     "name": "stdout",
     "output_type": "stream",
     "text": [
      "4.483388256587725\n"
     ]
    }
   ],
   "source": [
    "new_cost = computeCost(x,y,new_theta)\n",
    "print(new_cost)"
   ]
  },
  {
   "cell_type": "code",
   "execution_count": 163,
   "id": "57930fa6",
   "metadata": {},
   "outputs": [
    {
     "data": {
      "text/plain": [
       "Text(0.5, 1.0, 'Training Data with Linear Regression Fit')"
      ]
     },
     "execution_count": 163,
     "metadata": {},
     "output_type": "execute_result"
    },
    {
     "data": {
      "image/png": "[encoded data removed]",
      "text/plain": [
       "<Figure size 432x288 with 1 Axes>"
      ]
     },
     "metadata": {
      "needs_background": "light"
     },
     "output_type": "display_data"
    }
   ],
   "source": [
    "plt.scatter(x[:,1].reshape([m,1]), y, c='red', marker='x', label='Training Data')\n",
    "plt.plot(x[:,1].reshape([m,1]), np.dot(x, new_theta), label='Linear Regression')\n",
    "plt.ylabel('Profit in 10,000s')\n",
    "plt.xlabel('Population of City in 10,000s')\n",
    "plt.legend()\n",
    "plt.title('Training Data with Linear Regression Fit')"
   ]
  },
  {
   "cell_type": "code",
   "execution_count": 164,
   "id": "6a918880",
   "metadata": {},
   "outputs": [
    {
     "name": "stdout",
     "output_type": "stream",
     "text": [
      "For a population of 3500 people, profit will be 4519.7678677017675\n",
      "For a population of 70000 people, profit will be 45342.45012944714\n"
     ]
    }
   ],
   "source": [
    "#now we define a function for predicting profit giving population\n",
    "first_city = 3500\n",
    "second_city = 70000\n",
    "\n",
    "def prediction(x, new_theta):\n",
    "    '''\n",
    "    This function takes in population and predicts profit.\n",
    "    '''\n",
    "    pred = np.dot(x,new_theta) * 10000 #use the new coefficients\n",
    "    return pred #the prediction\n",
    "\n",
    "predict1 = (prediction(([1,3.5]), (new_theta)))\n",
    "predict2 = (prediction(([1,7]), (new_theta)))\n",
    "\n",
    "print(f'For a population of {first_city} people, profit will be {predict1[0]}')\n",
    "print(f'For a population of {second_city} people, profit will be {predict2[0]}')\n",
    "    "
   ]
  },
  {
   "cell_type": "code",
   "execution_count": null,
   "id": "263e0d99",
   "metadata": {},
   "outputs": [],
   "source": []
  }
 ],
 "metadata": {
  "interpreter": {
   "hash": "aee8b7b246df8f9039afb4144a1f6fd8d2ca17a180786b69acc140d282b71a49"
  },
  "kernelspec": {
   "display_name": "Python 3 (ipykernel)",
   "language": "python",
   "name": "python3"
  },
  "language_info": {
   "codemirror_mode": {
    "name": "ipython",
    "version": 3
   },
   "file_extension": ".py",
   "mimetype": "text/x-python",
   "name": "python",
   "nbconvert_exporter": "python",
   "pygments_lexer": "ipython3",
   "version": "3.10.0"
  }
 },
 "nbformat": 4,
 "nbformat_minor": 5
}
